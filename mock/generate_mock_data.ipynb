{
 "cells": [
  {
   "cell_type": "code",
   "execution_count": null,
   "id": "e85a02c6",
   "metadata": {},
   "outputs": [],
   "source": [
    "import uuid\n",
    "import random\n",
    "from datetime import datetime\n",
    "\n",
    "# Constants\n",
    "NUM_PLCS = 12\n",
    "ASSETS_PER_PLC = 32\n",
    "SENSORS_PER_ASSET = 8\n",
    "\n",
    "PROTOCOLS = [\"opcua\", \"modbus\", \"mqtt\"]\n",
    "LOCATIONS = [\"Plant A\", \"Plant B\", \"Plant C\", \"Zone 1\", \"Zone 2\"]\n",
    "SENSOR_TYPES = [\"temperature\", \"pressure\", \"vibration\", \"humidity\", \"rpm\", \"voltage\", \"current\", \"speed\"]\n",
    "SIGNAL_TYPES = [\"analog\", \"digital\", \"virtual\"]\n",
    "UNITS = {\n",
    "    \"temperature\": \"C\",\n",
    "    \"pressure\": \"bar\",\n",
    "    \"vibration\": \"mm/s\",\n",
    "    \"humidity\": \"%\",\n",
    "    \"rpm\": \"rpm\",\n",
    "    \"voltage\": \"V\",\n",
    "    \"current\": \"A\",\n",
    "    \"speed\": \"m/s\"\n",
    "}\n",
    "\n",
    "# Generate timestamps\n",
    "now = datetime.utcnow().isoformat()\n",
    "\n",
    "# Lists to hold SQL insert statements\n",
    "plc_inserts = []\n",
    "asset_inserts = []\n",
    "sensor_inserts = []\n",
    "\n",
    "# Generate data\n",
    "for i in range(NUM_PLCS):\n",
    "    plc_id = str(uuid.uuid4())\n",
    "    plc_name = f\"PLC_{i+1:02d}\"\n",
    "    ip_address = f\"192.168.0.{i+1}\"\n",
    "    protocol = random.choice(PROTOCOLS)\n",
    "    location = random.choice(LOCATIONS)\n",
    "\n",
    "    plc_inserts.append(f\"INSERT INTO plc (plc_id, plc_name, ip_address, protocol, location, created_at, updated_at) \"\n",
    "                       f\"VALUES ('{plc_id}', '{plc_name}', '{ip_address}', '{protocol}', '{location}', '{now}', '{now}');\")\n",
    "\n",
    "    for j in range(ASSETS_PER_PLC):\n",
    "        asset_id = str(uuid.uuid4())\n",
    "        asset_name = f\"{plc_name}_Asset_{j+1:02d}\"\n",
    "        asset_type = f\"type_{random.randint(1, 5)}\"\n",
    "        asset_location = random.choice(LOCATIONS)\n",
    "\n",
    "        asset_inserts.append(f\"INSERT INTO asset (asset_id, plc_id, asset_name, type, location, created_at, updated_at) \"\n",
    "                             f\"VALUES ('{asset_id}', '{plc_id}', '{asset_name}', '{asset_type}', '{asset_location}', '{now}', '{now}');\")\n",
    "\n",
    "        for k in range(SENSORS_PER_ASSET):\n",
    "            sensor_id = str(uuid.uuid4())\n",
    "            sensor_type = SENSOR_TYPES[k % len(SENSOR_TYPES)]\n",
    "            unit = UNITS[sensor_type]\n",
    "            signal_type = random.choice(SIGNAL_TYPES)\n",
    "            tag_name = f\"{asset_name}_Sensor_{sensor_type}_{k+1}\"\n",
    "            reading_range = '{\"min\": 0, \"max\": 100}'\n",
    "\n",
    "            sensor_inserts.append(f\"INSERT INTO sensor (sensor_id, asset_id, sensor_type, unit, reading_range, signal_type, tag_name, created_at, updated_at) \"\n",
    "                                  f\"VALUES ('{sensor_id}', '{asset_id}', '{sensor_type}', '{unit}', '{reading_range}', '{signal_type}', '{tag_name}', '{now}', '{now}');\")\n",
    "\n",
    "plc_sql = \"\\n\".join(plc_inserts)\n",
    "asset_sql = \"\\n\".join(asset_inserts)\n",
    "sensor_sql = \"\\n\".join(sensor_inserts)\n",
    "\n",
    "# (plc_sql[:1000], asset_sql[:1000], sensor_sql[:1000])  # Preview first 1000 chars of each for sanity check\n",
    "\n",
    "# (plc_id[:1000])\n",
    "\n",
    "print(plc_sql)\n",
    "\n",
    "print(sensor_sql)\n",
    "\n",
    "print(asset_sql)\n"
   ]
  },
  {
   "cell_type": "code",
   "execution_count": 13,
   "id": "0322b33b",
   "metadata": {},
   "outputs": [
    {
     "data": {
      "text/plain": [
       "('insert_plcs.sql', 'insert_assets.sql', 'insert_sensors.sql')"
      ]
     },
     "execution_count": 13,
     "metadata": {},
     "output_type": "execute_result"
    }
   ],
   "source": [
    "# Save full SQL content to files\n",
    "from pathlib import Path\n",
    "\n",
    "# Paths for output SQL files\n",
    "output_dir = Path(\"\")\n",
    "output_dir.mkdir(parents=True, exist_ok=True)\n",
    "\n",
    "# Write files\n",
    "plc_file = output_dir / \"insert_plcs.sql\"\n",
    "asset_file = output_dir / \"insert_assets.sql\"\n",
    "sensor_file = output_dir / \"insert_sensors.sql\"\n",
    "\n",
    "plc_file.write_text(\"\\n\".join(plc_inserts))\n",
    "asset_file.write_text(\"\\n\".join(asset_inserts))\n",
    "sensor_file.write_text(\"\\n\".join(sensor_inserts))\n",
    "\n",
    "plc_file.name, asset_file.name, sensor_file.name\n"
   ]
  }
 ],
 "metadata": {
  "kernelspec": {
   "display_name": "Python 3",
   "language": "python",
   "name": "python3"
  },
  "language_info": {
   "codemirror_mode": {
    "name": "ipython",
    "version": 3
   },
   "file_extension": ".py",
   "mimetype": "text/x-python",
   "name": "python",
   "nbconvert_exporter": "python",
   "pygments_lexer": "ipython3",
   "version": "3.10.10"
  }
 },
 "nbformat": 4,
 "nbformat_minor": 5
}
